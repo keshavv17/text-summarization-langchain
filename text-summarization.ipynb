{
 "cells": [
  {
   "cell_type": "code",
   "execution_count": 11,
   "id": "5266a9a4",
   "metadata": {},
   "outputs": [
    {
     "data": {
      "text/plain": [
       "True"
      ]
     },
     "execution_count": 11,
     "metadata": {},
     "output_type": "execute_result"
    }
   ],
   "source": [
    "import os\n",
    "from dotenv import load_dotenv\n",
    "load_dotenv()"
   ]
  },
  {
   "cell_type": "code",
   "execution_count": 12,
   "id": "a7487269",
   "metadata": {},
   "outputs": [
    {
     "data": {
      "text/plain": [
       "ChatGroq(client=<groq.resources.chat.completions.Completions object at 0x7c38f5247530>, async_client=<groq.resources.chat.completions.AsyncCompletions object at 0x7c38f52ee900>, model_name='llama-3.3-70b-versatile', model_kwargs={}, groq_api_key=SecretStr('**********'))"
      ]
     },
     "execution_count": 12,
     "metadata": {},
     "output_type": "execute_result"
    }
   ],
   "source": [
    "from langchain_groq import ChatGroq\n",
    "import transformers\n",
    "groq_api = os.getenv('GROQ_API_KEY')\n",
    "llm = ChatGroq(groq_api_key = groq_api, model_name = \"llama-3.3-70b-versatile\")\n",
    "llm "
   ]
  },
  {
   "cell_type": "code",
   "execution_count": 13,
   "id": "b3d0e0ad",
   "metadata": {},
   "outputs": [],
   "source": [
    "from langchain.schema import (\n",
    "    HumanMessage, \n",
    "    AIMessage, \n",
    "    SystemMessage\n",
    ")"
   ]
  },
  {
   "cell_type": "code",
   "execution_count": 14,
   "id": "055a9959",
   "metadata": {},
   "outputs": [],
   "source": [
    "speech=\"\"\"\n",
    "People across the country, involved in government, political, and social activities, are dedicating their time to make the ‘Viksit Bharat Sankalp Yatra’ (Developed India Resolution Journey) successful. Therefore, as a Member of Parliament, it was my responsibility to also contribute my time to this program. So, today, I have come here just as a Member of Parliament and your ‘sevak’, ready to participate in this program, much like you.\n",
    "\n",
    "In our country, governments have come and gone, numerous schemes have been formulated, discussions have taken place, and big promises have been made. However, my experience and observations led me to believe that the most critical aspect that requires attention is ensuring that the government’s plans reach the intended beneficiaries without any hassles. If there is a ‘Pradhan Mantri Awas Yojana’ (Prime Minister’s housing scheme), then those who are living in jhuggis and slums should get their houses. And he should not need to make rounds of the government offices for this purpose. The government should reach him. Since you have assigned this responsibility to me, about four crore families have got their ‘pucca’ houses. However, I have encountered cases where someone is left out of the government benefits. Therefore, I have decided to tour the country again, to listen to people’s experiences with government schemes, to understand whether they received the intended benefits, and to ensure that the programs are reaching everyone as planned without paying any bribes. We will get the real picture if we visit them again. Therefore, this ‘Viksit Bharat Sankalp Yatra’ is, in a way, my own examination. I want to hear from you and the people across the country whether what I envisioned and the work I have been doing aligns with reality and whether it has reached those for whom it was meant.\n",
    "\n",
    "It is crucial to check whether the work that was supposed to happen has indeed taken place. I recently met some individuals who utilized the Ayushman card to get treatment for serious illnesses. One person met with a severe accident, and after using the card, he could afford the necessary operation, and now he is recovering well. When I asked him, he said: “How could I afford this treatment? Now that there is the Ayushman card, I mustered courage and underwent an operation. Now I am perfectly fine.”  Such stories are blessings to me.\n",
    "\n",
    "The bureaucrats, who prepare good schemes, expedite the paperwork and even allocate funds, also feel satisfied that 50 or 100 people who were supposed to get the funds have got it. The funds meant for a thousand villages have been released. But their job satisfaction peaks when they hear that their work has directly impacted someone’s life positively. When they see the tangible results of their efforts, their enthusiasm multiplies. They feel satisfied. Therefore, ‘Viksit Bharat Sankalp Yatra’ has had a positive impact on government officers. It has made them more enthusiastic about their work, especially when they witness the tangible benefits reaching the people. Officers now feel satisfied with their work, saying, “I made a good plan, I created a file, and the intended beneficiaries received the benefits.” When they find that the money has reached a poor widow under the Jeevan Jyoti scheme and it was a great help to her during her crisis, they realise that they have done a good job. When a government officer listens to such stories, he feels very satisfied.\n",
    "\n",
    "There are very few who understand the power and impact of the ‘Viksit Bharat Sankalp Yatra’. When I hear people connected to bureaucratic circles talking about it, expressing their satisfaction, it resonates with me. I’ve heard stories where someone suddenly received 2 lakh rupees after the death of her husband, and a sister mentioned how the arrival of gas in her home transformed her lives. The most significant aspect is when someone says that the line between rich and poor has vanished. While the slogan ‘Garibi Hatao’ (Remove Poverty) is one thing, but the real change happens when a person says, “As soon as the gas stove came to my house, the distinction between poverty and affluence disappeared.\n",
    "\"\"\""
   ]
  },
  {
   "cell_type": "code",
   "execution_count": 18,
   "id": "a26a9f35",
   "metadata": {},
   "outputs": [],
   "source": [
    "chat_message = [\n",
    "    SystemMessage(content = 'You are an expert in summarizing the speeches'),\n",
    "    HumanMessage(content = f'Please provide a short and concise summary of given speech: \\n Text:{speech}')\n",
    "]"
   ]
  },
  {
   "cell_type": "code",
   "execution_count": 19,
   "id": "af93c2f3",
   "metadata": {},
   "outputs": [
    {
     "data": {
      "text/plain": [
       "909"
      ]
     },
     "execution_count": 19,
     "metadata": {},
     "output_type": "execute_result"
    }
   ],
   "source": [
    "\n",
    "llm.get_num_tokens(speech)"
   ]
  },
  {
   "cell_type": "code",
   "execution_count": null,
   "id": "30a24e97",
   "metadata": {},
   "outputs": [
    {
     "data": {
      "text/plain": [
       "\"Here is a concise summary of the speech:\\n\\nThe speaker, a Member of Parliament, is participating in the 'Viksit Bharat Sankalp Yatra' (Developed India Resolution Journey) to ensure government schemes reach their intended beneficiaries. They aim to listen to people's experiences, identify gaps, and assess the effectiveness of programs like housing and healthcare initiatives. The speaker shares stories of individuals who have benefited from these schemes, highlighting the positive impact on their lives. They emphasize the importance of bureaucrats and government officers seeing the tangible results of their work, which boosts their enthusiasm and job satisfaction. The ultimate goal is to bridge the gap between the rich and the poor, making a real difference in people's lives.\""
      ]
     },
     "execution_count": 20,
     "metadata": {},
     "output_type": "execute_result"
    }
   ],
   "source": [
    "## Getting the message summary\n",
    "llm(chat_message).content"
   ]
  },
  {
   "cell_type": "markdown",
   "id": "d1ac6c08",
   "metadata": {},
   "source": [
    "## Prompt template text summarization"
   ]
  },
  {
   "cell_type": "code",
   "execution_count": 23,
   "id": "3994e020",
   "metadata": {},
   "outputs": [
    {
     "data": {
      "text/plain": [
       "PromptTemplate(input_variables=['language', 'speech'], input_types={}, partial_variables={}, template=' \\n    Write a summary of the following speech:\\n    Speech: {speech}\\n    Translate the precise summary to {language}\\n')"
      ]
     },
     "execution_count": 23,
     "metadata": {},
     "output_type": "execute_result"
    }
   ],
   "source": [
    "from langchain.chains import LLMChain\n",
    "from langchain import PromptTemplate\n",
    "\n",
    "geeneric_template = \"\"\" \n",
    "    Write a summary of the following speech:\n",
    "    Speech: {speech}\n",
    "    Translate the precise summary to {language}\n",
    "\"\"\"\n",
    "\n",
    "prompt = PromptTemplate(\n",
    "    input_variables = ['speech', 'language'],\n",
    "    template = geeneric_template\n",
    ")\n",
    "\n",
    "prompt"
   ]
  },
  {
   "cell_type": "code",
   "execution_count": 24,
   "id": "e6a8658b",
   "metadata": {},
   "outputs": [
    {
     "data": {
      "text/plain": [
       "' \\n    Write a summary of the following speech:\\n    Speech: \\nPeople across the country, involved in government, political, and social activities, are dedicating their time to make the ‘Viksit Bharat Sankalp Yatra’ (Developed India Resolution Journey) successful. Therefore, as a Member of Parliament, it was my responsibility to also contribute my time to this program. So, today, I have come here just as a Member of Parliament and your ‘sevak’, ready to participate in this program, much like you.\\n\\nIn our country, governments have come and gone, numerous schemes have been formulated, discussions have taken place, and big promises have been made. However, my experience and observations led me to believe that the most critical aspect that requires attention is ensuring that the government’s plans reach the intended beneficiaries without any hassles. If there is a ‘Pradhan Mantri Awas Yojana’ (Prime Minister’s housing scheme), then those who are living in jhuggis and slums should get their houses. And he should not need to make rounds of the government offices for this purpose. The government should reach him. Since you have assigned this responsibility to me, about four crore families have got their ‘pucca’ houses. However, I have encountered cases where someone is left out of the government benefits. Therefore, I have decided to tour the country again, to listen to people’s experiences with government schemes, to understand whether they received the intended benefits, and to ensure that the programs are reaching everyone as planned without paying any bribes. We will get the real picture if we visit them again. Therefore, this ‘Viksit Bharat Sankalp Yatra’ is, in a way, my own examination. I want to hear from you and the people across the country whether what I envisioned and the work I have been doing aligns with reality and whether it has reached those for whom it was meant.\\n\\nIt is crucial to check whether the work that was supposed to happen has indeed taken place. I recently met some individuals who utilized the Ayushman card to get treatment for serious illnesses. One person met with a severe accident, and after using the card, he could afford the necessary operation, and now he is recovering well. When I asked him, he said: “How could I afford this treatment? Now that there is the Ayushman card, I mustered courage and underwent an operation. Now I am perfectly fine.”  Such stories are blessings to me.\\n\\nThe bureaucrats, who prepare good schemes, expedite the paperwork and even allocate funds, also feel satisfied that 50 or 100 people who were supposed to get the funds have got it. The funds meant for a thousand villages have been released. But their job satisfaction peaks when they hear that their work has directly impacted someone’s life positively. When they see the tangible results of their efforts, their enthusiasm multiplies. They feel satisfied. Therefore, ‘Viksit Bharat Sankalp Yatra’ has had a positive impact on government officers. It has made them more enthusiastic about their work, especially when they witness the tangible benefits reaching the people. Officers now feel satisfied with their work, saying, “I made a good plan, I created a file, and the intended beneficiaries received the benefits.” When they find that the money has reached a poor widow under the Jeevan Jyoti scheme and it was a great help to her during her crisis, they realise that they have done a good job. When a government officer listens to such stories, he feels very satisfied.\\n\\nThere are very few who understand the power and impact of the ‘Viksit Bharat Sankalp Yatra’. When I hear people connected to bureaucratic circles talking about it, expressing their satisfaction, it resonates with me. I’ve heard stories where someone suddenly received 2 lakh rupees after the death of her husband, and a sister mentioned how the arrival of gas in her home transformed her lives. The most significant aspect is when someone says that the line between rich and poor has vanished. While the slogan ‘Garibi Hatao’ (Remove Poverty) is one thing, but the real change happens when a person says, “As soon as the gas stove came to my house, the distinction between poverty and affluence disappeared.\\n\\n    Translate the precise summary to Haryanvi\\n'"
      ]
     },
     "execution_count": 24,
     "metadata": {},
     "output_type": "execute_result"
    }
   ],
   "source": [
    "complete_prompt = prompt.format(speech=speech, language = 'Haryanvi')\n",
    "complete_prompt"
   ]
  },
  {
   "cell_type": "code",
   "execution_count": 26,
   "id": "548cf52e",
   "metadata": {},
   "outputs": [
    {
     "data": {
      "text/plain": [
       "\"**English Summary:**\\nThe speaker, a Member of Parliament, is participating in the 'Viksit Bharat Sankalp Yatra' (Developed India Resolution Journey) to ensure that government schemes reach their intended beneficiaries. They aim to listen to people's experiences, understand the impact of government programs, and identify areas where improvements are needed. The speaker believes that it is crucial to check if the work that was supposed to happen has indeed taken place and to hear stories of how government schemes have positively impacted people's lives. The 'Viksit Bharat Sankalp Yatra' has had a positive impact on government officers, making them more enthusiastic about their work and satisfied with the tangible results of their efforts.\\n\\n**Haryanvi Translation:**\\nमैं एक सांसद के रूप में, 'विकसित भारत संकल्प यात्रा' में भाग ले रहा हूँ ताकि यह सुनिश्चित किया जा सके कि सरकारी योजनाएं अपने उद्देश्यों तक पहुंचें। मैं लोगों के अनुभव सुनना, सरकारी कार्यक्रमों के प्रभाव को समझना, और सुधार की आवश्यकता वाले क्षेत्रों की पहचान करना चाहता हूँ। मुझे लगता है कि यह जानना महत्वपूर्ण है कि जो काम होना था, वह वास्तव में हुआ है या नहीं, और लोगों की जिंदगी पर सरकारी योजनाओं के सकारात्मक प्रभाव की कहानियां सुनना। 'विकसित भारत संकल्प यात्रा' ने सरकारी अधिकारियों पर सकारात्मक प्रभाव डाला है, जिससे वे अपने काम के प्रति और अधिक उत्साहित हो गए हैं और अपने प्रयासों के मूर्त परिणामों से संतुष्ट हैं।\""
      ]
     },
     "execution_count": 26,
     "metadata": {},
     "output_type": "execute_result"
    }
   ],
   "source": [
    "llm_chain = LLMChain(llm = llm, prompt = prompt)\n",
    "summary = llm_chain.run({'speech':speech, 'language':'Haryanvi'})\n",
    "summary"
   ]
  },
  {
   "cell_type": "markdown",
   "id": "47577929",
   "metadata": {},
   "source": [
    "# Stuff Document Chain text summarization"
   ]
  },
  {
   "cell_type": "code",
   "execution_count": null,
   "id": "58faf636",
   "metadata": {},
   "outputs": [],
   "source": []
  }
 ],
 "metadata": {
  "kernelspec": {
   "display_name": "venv (3.12.3)",
   "language": "python",
   "name": "python3"
  },
  "language_info": {
   "codemirror_mode": {
    "name": "ipython",
    "version": 3
   },
   "file_extension": ".py",
   "mimetype": "text/x-python",
   "name": "python",
   "nbconvert_exporter": "python",
   "pygments_lexer": "ipython3",
   "version": "3.12.3"
  }
 },
 "nbformat": 4,
 "nbformat_minor": 5
}
